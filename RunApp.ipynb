{
 "cells": [
  {
   "cell_type": "code",
   "execution_count": 8,
   "metadata": {},
   "outputs": [],
   "source": [
    "import sys\n",
    "#!{sys.executable} -m pip install flask_wtf"
   ]
  },
  {
   "cell_type": "code",
   "execution_count": null,
   "metadata": {},
   "outputs": [
    {
     "name": "stdout",
     "output_type": "stream",
     "text": [
      "/Users/j.p.parraga/opt/anaconda3/lib/python3.8/site-packages/flask_sqlalchemy/__init__.py:833: FSADeprecationWarning: SQLALCHEMY_TRACK_MODIFICATIONS adds significant overhead and will be disabled by default in the future.  Set it to True or False to suppress this warning.\n",
      "  warnings.warn(FSADeprecationWarning(\n",
      "/Users/j.p.parraga/opt/anaconda3/lib/python3.8/site-packages/sklearn/base.py:329: UserWarning: Trying to unpickle estimator StandardScaler from version 0.24.0 when using version 0.23.2. This might lead to breaking code or invalid results. Use at your own risk.\n",
      "  warnings.warn(\n",
      "/Users/j.p.parraga/opt/anaconda3/lib/python3.8/site-packages/sklearn/base.py:329: UserWarning: Trying to unpickle estimator NearestNeighbors from version 0.24.0 when using version 0.23.2. This might lead to breaking code or invalid results. Use at your own risk.\n",
      "  warnings.warn(\n",
      "/Users/j.p.parraga/opt/anaconda3/lib/python3.8/site-packages/sklearn/base.py:329: UserWarning: Trying to unpickle estimator LocallyLinearEmbedding from version 0.24.0 when using version 0.23.2. This might lead to breaking code or invalid results. Use at your own risk.\n",
      "  warnings.warn(\n",
      "/Users/j.p.parraga/opt/anaconda3/lib/python3.8/site-packages/sklearn/base.py:329: UserWarning: Trying to unpickle estimator Pipeline from version 0.24.0 when using version 0.23.2. This might lead to breaking code or invalid results. Use at your own risk.\n",
      "  warnings.warn(\n",
      " * Serving Flask app \"b41980\" (lazy loading)\n",
      " * Environment: production\n",
      "\u001b[31m   WARNING: This is a development server. Do not use it in a production deployment.\u001b[0m\n",
      "\u001b[2m   Use a production WSGI server instead.\u001b[0m\n",
      " * Debug mode: on\n",
      " * Running on http://0.0.0.0:80/ (Press CTRL+C to quit)\n",
      " * Restarting with fsevents reloader\n",
      "/Users/j.p.parraga/opt/anaconda3/lib/python3.8/site-packages/flask_sqlalchemy/__init__.py:833: FSADeprecationWarning: SQLALCHEMY_TRACK_MODIFICATIONS adds significant overhead and will be disabled by default in the future.  Set it to True or False to suppress this warning.\n",
      "  warnings.warn(FSADeprecationWarning(\n",
      "/Users/j.p.parraga/opt/anaconda3/lib/python3.8/site-packages/sklearn/base.py:329: UserWarning: Trying to unpickle estimator StandardScaler from version 0.24.0 when using version 0.23.2. This might lead to breaking code or invalid results. Use at your own risk.\n",
      "  warnings.warn(\n",
      "/Users/j.p.parraga/opt/anaconda3/lib/python3.8/site-packages/sklearn/base.py:329: UserWarning: Trying to unpickle estimator NearestNeighbors from version 0.24.0 when using version 0.23.2. This might lead to breaking code or invalid results. Use at your own risk.\n",
      "  warnings.warn(\n",
      "/Users/j.p.parraga/opt/anaconda3/lib/python3.8/site-packages/sklearn/base.py:329: UserWarning: Trying to unpickle estimator LocallyLinearEmbedding from version 0.24.0 when using version 0.23.2. This might lead to breaking code or invalid results. Use at your own risk.\n",
      "  warnings.warn(\n",
      "/Users/j.p.parraga/opt/anaconda3/lib/python3.8/site-packages/sklearn/base.py:329: UserWarning: Trying to unpickle estimator Pipeline from version 0.24.0 when using version 0.23.2. This might lead to breaking code or invalid results. Use at your own risk.\n",
      "  warnings.warn(\n",
      " * Debugger is active!\n",
      " * Debugger PIN: 331-396-578\n",
      "127.0.0.1 - - [28/Jan/2021 23:46:52] \"\u001b[37mGET / HTTP/1.1\u001b[0m\" 200 -\n",
      "127.0.0.1 - - [28/Jan/2021 23:46:52] \"\u001b[37mGET /static/rf.png HTTP/1.1\u001b[0m\" 200 -\n",
      "127.0.0.1 - - [28/Jan/2021 23:46:52] \"\u001b[37mGET /static/main.css HTTP/1.1\u001b[0m\" 200 -\n",
      "127.0.0.1 - - [28/Jan/2021 23:46:52] \"\u001b[33mGET /favicon.ico HTTP/1.1\u001b[0m\" 404 -\n",
      "127.0.0.1 - - [28/Jan/2021 23:46:57] \"\u001b[37mGET /about HTTP/1.1\u001b[0m\" 200 -\n",
      "127.0.0.1 - - [28/Jan/2021 23:46:57] \"\u001b[37mGET /static/feat_import_spec.json HTTP/1.1\u001b[0m\" 200 -\n",
      "127.0.0.1 - - [28/Jan/2021 23:46:57] \"\u001b[37mGET /static/pr_spec.json HTTP/1.1\u001b[0m\" 200 -\n",
      "127.0.0.1 - - [28/Jan/2021 23:46:57] \"\u001b[33mGET /favicon.ico HTTP/1.1\u001b[0m\" 404 -\n",
      "127.0.0.1 - - [28/Jan/2021 23:47:01] \"\u001b[37mGET / HTTP/1.1\u001b[0m\" 200 -\n",
      "127.0.0.1 - - [28/Jan/2021 23:47:02] \"\u001b[37mGET /predict HTTP/1.1\u001b[0m\" 200 -\n",
      "127.0.0.1 - - [28/Jan/2021 23:47:02] \"\u001b[37mGET /static/old_house.jpg HTTP/1.1\u001b[0m\" 200 -\n",
      "127.0.0.1 - - [28/Jan/2021 23:47:02] \"\u001b[37mGET /static/new_house.jpg HTTP/1.1\u001b[0m\" 200 -\n",
      "127.0.0.1 - - [28/Jan/2021 23:47:02] \"\u001b[33mGET /favicon.ico HTTP/1.1\u001b[0m\" 404 -\n",
      "127.0.0.1 - - [28/Jan/2021 23:47:23] \"\u001b[37mGET /resume HTTP/1.1\u001b[0m\" 200 -\n",
      "127.0.0.1 - - [28/Jan/2021 23:47:23] \"\u001b[37mGET /static/headshot.jpg HTTP/1.1\u001b[0m\" 200 -\n",
      "127.0.0.1 - - [28/Jan/2021 23:47:23] \"\u001b[37mGET /resume HTTP/1.1\u001b[0m\" 200 -\n",
      "127.0.0.1 - - [28/Jan/2021 23:47:23] \"\u001b[33mGET /favicon.ico HTTP/1.1\u001b[0m\" 404 -\n",
      "127.0.0.1 - - [28/Jan/2021 23:47:23] \"\u001b[37mGET /static/BrandonJenkinsResume.pdf HTTP/1.1\u001b[0m\" 200 -\n",
      "127.0.0.1 - - [28/Jan/2021 23:47:32] \"\u001b[37mGET /predict HTTP/1.1\u001b[0m\" 200 -\n",
      "127.0.0.1 - - [28/Jan/2021 23:50:37] \"\u001b[32mPOST /predict HTTP/1.1\u001b[0m\" 302 -\n",
      "127.0.0.1 - - [28/Jan/2021 23:50:37] \"\u001b[37mGET /predictresults HTTP/1.1\u001b[0m\" 200 -\n",
      "127.0.0.1 - - [28/Jan/2021 23:50:37] \"\u001b[37mGET /static/lle_spec.json HTTP/1.1\u001b[0m\" 200 -\n",
      "127.0.0.1 - - [28/Jan/2021 23:50:37] \"\u001b[33mGET /favicon.ico HTTP/1.1\u001b[0m\" 404 -\n",
      "127.0.0.1 - - [28/Jan/2021 23:51:18] \"\u001b[37mGET /predict HTTP/1.1\u001b[0m\" 200 -\n",
      "127.0.0.1 - - [28/Jan/2021 23:51:36] \"\u001b[37mPOST /predict HTTP/1.1\u001b[0m\" 200 -\n",
      "127.0.0.1 - - [28/Jan/2021 23:51:46] \"\u001b[32mPOST /predict HTTP/1.1\u001b[0m\" 302 -\n",
      "127.0.0.1 - - [28/Jan/2021 23:51:47] \"\u001b[37mGET /predictresults HTTP/1.1\u001b[0m\" 200 -\n",
      "127.0.0.1 - - [28/Jan/2021 23:53:20] \"\u001b[37mGET / HTTP/1.1\u001b[0m\" 200 -\n",
      "127.0.0.1 - - [28/Jan/2021 23:53:28] \"\u001b[37mGET / HTTP/1.1\u001b[0m\" 200 -\n",
      "127.0.0.1 - - [28/Jan/2021 23:53:29] \"\u001b[37mGET /about HTTP/1.1\u001b[0m\" 200 -\n",
      "127.0.0.1 - - [28/Jan/2021 23:53:42] \"\u001b[37mGET /about HTTP/1.1\u001b[0m\" 200 -\n",
      "127.0.0.1 - - [28/Jan/2021 23:53:43] \"\u001b[37mGET /predict HTTP/1.1\u001b[0m\" 200 -\n"
     ]
    }
   ],
   "source": [
    "!python3 run.py"
   ]
  },
  {
   "cell_type": "code",
   "execution_count": null,
   "metadata": {},
   "outputs": [],
   "source": []
  }
 ],
 "metadata": {
  "kernelspec": {
   "display_name": "Python 3",
   "language": "python",
   "name": "python3"
  },
  "language_info": {
   "codemirror_mode": {
    "name": "ipython",
    "version": 3
   },
   "file_extension": ".py",
   "mimetype": "text/x-python",
   "name": "python",
   "nbconvert_exporter": "python",
   "pygments_lexer": "ipython3",
   "version": "3.8.5"
  }
 },
 "nbformat": 4,
 "nbformat_minor": 4
}
